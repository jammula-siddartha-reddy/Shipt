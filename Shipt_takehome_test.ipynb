{
 "cells": [
  {
   "cell_type": "code",
   "execution_count": 12,
   "metadata": {},
   "outputs": [],
   "source": [
    "import pandas as pd\n",
    "import matplotlib.pyplot as plt\n",
    "%matplotlib inline\n",
    "import seaborn as sns\n",
    "import pandas as pd\n",
    "import statsmodels.api as sm\n",
    "from sklearn import metrics"
   ]
  },
  {
   "cell_type": "code",
   "execution_count": 2,
   "metadata": {},
   "outputs": [],
   "source": [
    "df_cost = pd.read_csv(\"InterviewData_Cost.csv\")\n",
    "df_rev = pd.read_csv(\"InterviewData_Rev.csv\")"
   ]
  },
  {
   "cell_type": "markdown",
   "metadata": {},
   "source": [
    "## Question 1"
   ]
  },
  {
   "cell_type": "code",
   "execution_count": 3,
   "metadata": {},
   "outputs": [
    {
     "data": {
      "text/html": [
       "<div>\n",
       "<style scoped>\n",
       "    .dataframe tbody tr th:only-of-type {\n",
       "        vertical-align: middle;\n",
       "    }\n",
       "\n",
       "    .dataframe tbody tr th {\n",
       "        vertical-align: top;\n",
       "    }\n",
       "\n",
       "    .dataframe thead th {\n",
       "        text-align: right;\n",
       "    }\n",
       "</style>\n",
       "<table border=\"1\" class=\"dataframe\">\n",
       "  <thead>\n",
       "    <tr style=\"text-align: right;\">\n",
       "      <th></th>\n",
       "      <th>date</th>\n",
       "      <th>source_id</th>\n",
       "      <th>cost</th>\n",
       "      <th>revenue</th>\n",
       "    </tr>\n",
       "  </thead>\n",
       "  <tbody>\n",
       "    <tr>\n",
       "      <th>0</th>\n",
       "      <td>10/17/14</td>\n",
       "      <td>PA0577</td>\n",
       "      <td>7168.0</td>\n",
       "      <td>8417.0</td>\n",
       "    </tr>\n",
       "    <tr>\n",
       "      <th>1</th>\n",
       "      <td>8/17/14</td>\n",
       "      <td>PA0354</td>\n",
       "      <td>7615.0</td>\n",
       "      <td>4200.0</td>\n",
       "    </tr>\n",
       "    <tr>\n",
       "      <th>2</th>\n",
       "      <td>1/7/14</td>\n",
       "      <td>PA0607</td>\n",
       "      <td>4054.0</td>\n",
       "      <td>7935.0</td>\n",
       "    </tr>\n",
       "    <tr>\n",
       "      <th>3</th>\n",
       "      <td>8/25/14</td>\n",
       "      <td>PA0745</td>\n",
       "      <td>9317.0</td>\n",
       "      <td>5536.0</td>\n",
       "    </tr>\n",
       "    <tr>\n",
       "      <th>4</th>\n",
       "      <td>11/30/14</td>\n",
       "      <td>PA0923</td>\n",
       "      <td>5586.0</td>\n",
       "      <td>NaN</td>\n",
       "    </tr>\n",
       "    <tr>\n",
       "      <th>...</th>\n",
       "      <td>...</td>\n",
       "      <td>...</td>\n",
       "      <td>...</td>\n",
       "      <td>...</td>\n",
       "    </tr>\n",
       "    <tr>\n",
       "      <th>14613</th>\n",
       "      <td>12/29/14</td>\n",
       "      <td>PA0958</td>\n",
       "      <td>NaN</td>\n",
       "      <td>7406.0</td>\n",
       "    </tr>\n",
       "    <tr>\n",
       "      <th>14614</th>\n",
       "      <td>3/19/14</td>\n",
       "      <td>PA0732</td>\n",
       "      <td>NaN</td>\n",
       "      <td>6584.0</td>\n",
       "    </tr>\n",
       "    <tr>\n",
       "      <th>14615</th>\n",
       "      <td>9/24/14</td>\n",
       "      <td>PA0174</td>\n",
       "      <td>NaN</td>\n",
       "      <td>3827.0</td>\n",
       "    </tr>\n",
       "    <tr>\n",
       "      <th>14616</th>\n",
       "      <td>10/26/14</td>\n",
       "      <td>PA0318</td>\n",
       "      <td>NaN</td>\n",
       "      <td>533.0</td>\n",
       "    </tr>\n",
       "    <tr>\n",
       "      <th>14617</th>\n",
       "      <td>1/4/14</td>\n",
       "      <td>PA0354</td>\n",
       "      <td>NaN</td>\n",
       "      <td>3070.0</td>\n",
       "    </tr>\n",
       "  </tbody>\n",
       "</table>\n",
       "<p>14618 rows × 4 columns</p>\n",
       "</div>"
      ],
      "text/plain": [
       "           date source_id    cost  revenue\n",
       "0      10/17/14    PA0577  7168.0   8417.0\n",
       "1       8/17/14    PA0354  7615.0   4200.0\n",
       "2        1/7/14    PA0607  4054.0   7935.0\n",
       "3       8/25/14    PA0745  9317.0   5536.0\n",
       "4      11/30/14    PA0923  5586.0      NaN\n",
       "...         ...       ...     ...      ...\n",
       "14613  12/29/14    PA0958     NaN   7406.0\n",
       "14614   3/19/14    PA0732     NaN   6584.0\n",
       "14615   9/24/14    PA0174     NaN   3827.0\n",
       "14616  10/26/14    PA0318     NaN    533.0\n",
       "14617    1/4/14    PA0354     NaN   3070.0\n",
       "\n",
       "[14618 rows x 4 columns]"
      ]
     },
     "execution_count": 3,
     "metadata": {},
     "output_type": "execute_result"
    }
   ],
   "source": [
    "df_merge = pd.merge(df_cost,df_rev, how='outer', on=['date','source_id'])\n",
    "df_merge"
   ]
  },
  {
   "cell_type": "markdown",
   "metadata": {},
   "source": [
    "## Question 2"
   ]
  },
  {
   "cell_type": "code",
   "execution_count": 5,
   "metadata": {
    "scrolled": true
   },
   "outputs": [
    {
     "data": {
      "text/html": [
       "<div>\n",
       "<style scoped>\n",
       "    .dataframe tbody tr th:only-of-type {\n",
       "        vertical-align: middle;\n",
       "    }\n",
       "\n",
       "    .dataframe tbody tr th {\n",
       "        vertical-align: top;\n",
       "    }\n",
       "\n",
       "    .dataframe thead th {\n",
       "        text-align: right;\n",
       "    }\n",
       "</style>\n",
       "<table border=\"1\" class=\"dataframe\">\n",
       "  <thead>\n",
       "    <tr style=\"text-align: right;\">\n",
       "      <th></th>\n",
       "      <th>date</th>\n",
       "      <th>source_id</th>\n",
       "      <th>cost</th>\n",
       "    </tr>\n",
       "  </thead>\n",
       "  <tbody>\n",
       "    <tr>\n",
       "      <th>4</th>\n",
       "      <td>11/30/14</td>\n",
       "      <td>PA0923</td>\n",
       "      <td>5586.0</td>\n",
       "    </tr>\n",
       "    <tr>\n",
       "      <th>6</th>\n",
       "      <td>12/17/14</td>\n",
       "      <td>PA0952</td>\n",
       "      <td>6662.0</td>\n",
       "    </tr>\n",
       "    <tr>\n",
       "      <th>7</th>\n",
       "      <td>5/22/14</td>\n",
       "      <td>PA0411</td>\n",
       "      <td>4795.0</td>\n",
       "    </tr>\n",
       "    <tr>\n",
       "      <th>9</th>\n",
       "      <td>10/14/14</td>\n",
       "      <td>PA0168</td>\n",
       "      <td>9651.0</td>\n",
       "    </tr>\n",
       "    <tr>\n",
       "      <th>10</th>\n",
       "      <td>2/13/14</td>\n",
       "      <td>PA0354</td>\n",
       "      <td>2752.0</td>\n",
       "    </tr>\n",
       "    <tr>\n",
       "      <th>...</th>\n",
       "      <td>...</td>\n",
       "      <td>...</td>\n",
       "      <td>...</td>\n",
       "    </tr>\n",
       "    <tr>\n",
       "      <th>9993</th>\n",
       "      <td>12/7/14</td>\n",
       "      <td>PA0900</td>\n",
       "      <td>2037.0</td>\n",
       "    </tr>\n",
       "    <tr>\n",
       "      <th>9994</th>\n",
       "      <td>7/11/14</td>\n",
       "      <td>PA0474</td>\n",
       "      <td>726.0</td>\n",
       "    </tr>\n",
       "    <tr>\n",
       "      <th>9995</th>\n",
       "      <td>1/10/14</td>\n",
       "      <td>PA0830</td>\n",
       "      <td>6202.0</td>\n",
       "    </tr>\n",
       "    <tr>\n",
       "      <th>9996</th>\n",
       "      <td>1/31/14</td>\n",
       "      <td>PA0467</td>\n",
       "      <td>7057.0</td>\n",
       "    </tr>\n",
       "    <tr>\n",
       "      <th>9998</th>\n",
       "      <td>10/1/14</td>\n",
       "      <td>PA0293</td>\n",
       "      <td>1053.0</td>\n",
       "    </tr>\n",
       "  </tbody>\n",
       "</table>\n",
       "<p>4609 rows × 3 columns</p>\n",
       "</div>"
      ],
      "text/plain": [
       "          date source_id    cost\n",
       "4     11/30/14    PA0923  5586.0\n",
       "6     12/17/14    PA0952  6662.0\n",
       "7      5/22/14    PA0411  4795.0\n",
       "9     10/14/14    PA0168  9651.0\n",
       "10     2/13/14    PA0354  2752.0\n",
       "...        ...       ...     ...\n",
       "9993   12/7/14    PA0900  2037.0\n",
       "9994   7/11/14    PA0474   726.0\n",
       "9995   1/10/14    PA0830  6202.0\n",
       "9996   1/31/14    PA0467  7057.0\n",
       "9998   10/1/14    PA0293  1053.0\n",
       "\n",
       "[4609 rows x 3 columns]"
      ]
     },
     "execution_count": 5,
     "metadata": {},
     "output_type": "execute_result"
    }
   ],
   "source": [
    "df_merge[pd.notnull(df_merge[\"cost\"]) & pd.isnull(df_merge[\"revenue\"])].drop(columns='revenue')\n"
   ]
  },
  {
   "cell_type": "markdown",
   "metadata": {},
   "source": [
    "## Question 3"
   ]
  },
  {
   "cell_type": "code",
   "execution_count": 6,
   "metadata": {},
   "outputs": [
    {
     "data": {
      "text/html": [
       "<div>\n",
       "<style scoped>\n",
       "    .dataframe tbody tr th:only-of-type {\n",
       "        vertical-align: middle;\n",
       "    }\n",
       "\n",
       "    .dataframe tbody tr th {\n",
       "        vertical-align: top;\n",
       "    }\n",
       "\n",
       "    .dataframe thead th {\n",
       "        text-align: right;\n",
       "    }\n",
       "</style>\n",
       "<table border=\"1\" class=\"dataframe\">\n",
       "  <thead>\n",
       "    <tr style=\"text-align: right;\">\n",
       "      <th></th>\n",
       "      <th>source_id</th>\n",
       "      <th>revenue</th>\n",
       "    </tr>\n",
       "  </thead>\n",
       "  <tbody>\n",
       "    <tr>\n",
       "      <th>0</th>\n",
       "      <td>PA0527</td>\n",
       "      <td>1385747.0</td>\n",
       "    </tr>\n",
       "    <tr>\n",
       "      <th>1</th>\n",
       "      <td>PA0308</td>\n",
       "      <td>1338615.0</td>\n",
       "    </tr>\n",
       "    <tr>\n",
       "      <th>2</th>\n",
       "      <td>PA0352</td>\n",
       "      <td>1309685.0</td>\n",
       "    </tr>\n",
       "    <tr>\n",
       "      <th>3</th>\n",
       "      <td>PA0552</td>\n",
       "      <td>1283190.0</td>\n",
       "    </tr>\n",
       "  </tbody>\n",
       "</table>\n",
       "</div>"
      ],
      "text/plain": [
       "  source_id    revenue\n",
       "0    PA0527  1385747.0\n",
       "1    PA0308  1338615.0\n",
       "2    PA0352  1309685.0\n",
       "3    PA0552  1283190.0"
      ]
     },
     "execution_count": 6,
     "metadata": {},
     "output_type": "execute_result"
    }
   ],
   "source": [
    "grouped_sou = df_merge.groupby(\"source_id\").revenue.sum().nlargest(4).reset_index()\n",
    "grouped_sou"
   ]
  },
  {
   "cell_type": "code",
   "execution_count": 7,
   "metadata": {},
   "outputs": [
    {
     "data": {
      "image/png": "[encoded data removed]",
      "text/plain": [
       "<Figure size 1440x720 with 1 Axes>"
      ]
     },
     "metadata": {
      "needs_background": "light"
     },
     "output_type": "display_data"
    }
   ],
   "source": [
    "plt.figure(figsize=(20,10))\n",
    "splot=sns.barplot(x = 'source_id', y='revenue',data=grouped_sou, color='m')\n",
    "for p in splot.patches:\n",
    "    splot.annotate(format(p.get_height(), '.1f'), (p.get_x() + p.get_width() / 2., p.get_height()), ha = 'center',\n",
    "                   va = 'center', xytext = (0, 15), textcoords = 'offset points')\n"
   ]
  },
  {
   "cell_type": "markdown",
   "metadata": {},
   "source": [
    "<p style=\"font-family:Times; font-size: 20px\"> In this problem, Bar Chart is the efficient way to visualize the top 4 source_id's based on their revenue </p>"
   ]
  },
  {
   "cell_type": "markdown",
   "metadata": {},
   "source": [
    "## Question 4"
   ]
  },
  {
   "cell_type": "code",
   "execution_count": 8,
   "metadata": {},
   "outputs": [],
   "source": [
    "df= pd.read_csv(\"InterviewData_Activity.csv\")\n",
    "dummy_genders = pd.get_dummies(df['gender'], prefix = 'gender')\n",
    "dummy_metro = pd.get_dummies(df['metropolitan_area'], prefix = 'metro_area')\n",
    "dummy_device = pd.get_dummies(df['device_type'], prefix = 'device')\n",
    "cols_to_keep = ['active', 'age']\n",
    "activity_data = df[cols_to_keep].join(dummy_genders.loc[:, 'gender_M':])\n",
    "activity_data = activity_data.join(dummy_metro.loc[:, 'metro_area_Birmingham':])\n",
    "activity_data = activity_data.join(dummy_device.loc[:, 'device_Mobile':])\n",
    "activity_data = sm.add_constant(activity_data, prepend=False)\n",
    "explanatory_cols = activity_data.columns[1:]\n",
    "full_logit_model = sm.GLM(activity_data['active'], activity_data[explanatory_cols], family=sm.families.Binomial())\n",
    "result = full_logit_model.fit()"
   ]
  },
  {
   "cell_type": "code",
   "execution_count": 10,
   "metadata": {},
   "outputs": [
    {
     "data": {
      "text/html": [
       "<table class=\"simpletable\">\n",
       "<caption>Generalized Linear Model Regression Results</caption>\n",
       "<tr>\n",
       "  <th>Dep. Variable:</th>        <td>active</td>      <th>  No. Observations:  </th>  <td>  5420</td> \n",
       "</tr>\n",
       "<tr>\n",
       "  <th>Model:</th>                  <td>GLM</td>       <th>  Df Residuals:      </th>  <td>  5408</td> \n",
       "</tr>\n",
       "<tr>\n",
       "  <th>Model Family:</th>        <td>Binomial</td>     <th>  Df Model:          </th>  <td>    11</td> \n",
       "</tr>\n",
       "<tr>\n",
       "  <th>Link Function:</th>         <td>logit</td>      <th>  Scale:             </th> <td>  1.0000</td>\n",
       "</tr>\n",
       "<tr>\n",
       "  <th>Method:</th>                <td>IRLS</td>       <th>  Log-Likelihood:    </th> <td> -3613.1</td>\n",
       "</tr>\n",
       "<tr>\n",
       "  <th>Date:</th>            <td>Wed, 14 Oct 2020</td> <th>  Deviance:          </th> <td>  7226.3</td>\n",
       "</tr>\n",
       "<tr>\n",
       "  <th>Time:</th>                <td>13:26:28</td>     <th>  Pearson chi2:      </th> <td>5.38e+03</td>\n",
       "</tr>\n",
       "<tr>\n",
       "  <th>No. Iterations:</th>         <td>22</td>        <th>                     </th>     <td> </td>   \n",
       "</tr>\n",
       "<tr>\n",
       "  <th>Covariance Type:</th>     <td>nonrobust</td>    <th>                     </th>     <td> </td>   \n",
       "</tr>\n",
       "</table>\n",
       "<table class=\"simpletable\">\n",
       "<tr>\n",
       "            <td></td>               <th>coef</th>     <th>std err</th>      <th>z</th>      <th>P>|z|</th>  <th>[0.025</th>    <th>0.975]</th>  \n",
       "</tr>\n",
       "<tr>\n",
       "  <th>age</th>                   <td>    0.0136</td> <td>    0.003</td> <td>    5.180</td> <td> 0.000</td> <td>    0.008</td> <td>    0.019</td>\n",
       "</tr>\n",
       "<tr>\n",
       "  <th>gender_M</th>              <td>   -0.6103</td> <td>    0.083</td> <td>   -7.343</td> <td> 0.000</td> <td>   -0.773</td> <td>   -0.447</td>\n",
       "</tr>\n",
       "<tr>\n",
       "  <th>metro_area_Birmingham</th> <td>   -0.0547</td> <td>    0.095</td> <td>   -0.576</td> <td> 0.564</td> <td>   -0.241</td> <td>    0.131</td>\n",
       "</tr>\n",
       "<tr>\n",
       "  <th>metro_area_Charlotte</th>  <td>   -1.8619</td> <td>    0.337</td> <td>   -5.529</td> <td> 0.000</td> <td>   -2.522</td> <td>   -1.202</td>\n",
       "</tr>\n",
       "<tr>\n",
       "  <th>metro_area_Detroit</th>    <td>   -0.0792</td> <td>    0.115</td> <td>   -0.689</td> <td> 0.491</td> <td>   -0.304</td> <td>    0.146</td>\n",
       "</tr>\n",
       "<tr>\n",
       "  <th>metro_area_Houston</th>    <td>   -0.4496</td> <td>    0.093</td> <td>   -4.850</td> <td> 0.000</td> <td>   -0.631</td> <td>   -0.268</td>\n",
       "</tr>\n",
       "<tr>\n",
       "  <th>metro_area_Mobile</th>     <td>   -1.7244</td> <td>    0.259</td> <td>   -6.655</td> <td> 0.000</td> <td>   -2.232</td> <td>   -1.217</td>\n",
       "</tr>\n",
       "<tr>\n",
       "  <th>metro_area_Nashville</th>  <td>   22.4506</td> <td> 1.35e+04</td> <td>    0.002</td> <td> 0.999</td> <td>-2.64e+04</td> <td> 2.64e+04</td>\n",
       "</tr>\n",
       "<tr>\n",
       "  <th>metro_area_Tampa</th>      <td>    0.1370</td> <td>    0.104</td> <td>    1.312</td> <td> 0.189</td> <td>   -0.068</td> <td>    0.342</td>\n",
       "</tr>\n",
       "<tr>\n",
       "  <th>device_Mobile</th>         <td>   -1.5004</td> <td>    0.264</td> <td>   -5.685</td> <td> 0.000</td> <td>   -2.018</td> <td>   -0.983</td>\n",
       "</tr>\n",
       "<tr>\n",
       "  <th>device_Tablet</th>         <td>   -1.2342</td> <td>    0.269</td> <td>   -4.585</td> <td> 0.000</td> <td>   -1.762</td> <td>   -0.707</td>\n",
       "</tr>\n",
       "<tr>\n",
       "  <th>const</th>                 <td>    1.1553</td> <td>    0.290</td> <td>    3.991</td> <td> 0.000</td> <td>    0.588</td> <td>    1.723</td>\n",
       "</tr>\n",
       "</table>"
      ],
      "text/plain": [
       "<class 'statsmodels.iolib.summary.Summary'>\n",
       "\"\"\"\n",
       "                 Generalized Linear Model Regression Results                  \n",
       "==============================================================================\n",
       "Dep. Variable:                 active   No. Observations:                 5420\n",
       "Model:                            GLM   Df Residuals:                     5408\n",
       "Model Family:                Binomial   Df Model:                           11\n",
       "Link Function:                  logit   Scale:                          1.0000\n",
       "Method:                          IRLS   Log-Likelihood:                -3613.1\n",
       "Date:                Wed, 14 Oct 2020   Deviance:                       7226.3\n",
       "Time:                        13:26:28   Pearson chi2:                 5.38e+03\n",
       "No. Iterations:                    22                                         \n",
       "Covariance Type:            nonrobust                                         \n",
       "=========================================================================================\n",
       "                            coef    std err          z      P>|z|      [0.025      0.975]\n",
       "-----------------------------------------------------------------------------------------\n",
       "age                       0.0136      0.003      5.180      0.000       0.008       0.019\n",
       "gender_M                 -0.6103      0.083     -7.343      0.000      -0.773      -0.447\n",
       "metro_area_Birmingham    -0.0547      0.095     -0.576      0.564      -0.241       0.131\n",
       "metro_area_Charlotte     -1.8619      0.337     -5.529      0.000      -2.522      -1.202\n",
       "metro_area_Detroit       -0.0792      0.115     -0.689      0.491      -0.304       0.146\n",
       "metro_area_Houston       -0.4496      0.093     -4.850      0.000      -0.631      -0.268\n",
       "metro_area_Mobile        -1.7244      0.259     -6.655      0.000      -2.232      -1.217\n",
       "metro_area_Nashville     22.4506   1.35e+04      0.002      0.999   -2.64e+04    2.64e+04\n",
       "metro_area_Tampa          0.1370      0.104      1.312      0.189      -0.068       0.342\n",
       "device_Mobile            -1.5004      0.264     -5.685      0.000      -2.018      -0.983\n",
       "device_Tablet            -1.2342      0.269     -4.585      0.000      -1.762      -0.707\n",
       "const                     1.1553      0.290      3.991      0.000       0.588       1.723\n",
       "=========================================================================================\n",
       "\"\"\""
      ]
     },
     "execution_count": 10,
     "metadata": {},
     "output_type": "execute_result"
    }
   ],
   "source": [
    "result.summary()"
   ]
  },
  {
   "cell_type": "code",
   "execution_count": 26,
   "metadata": {},
   "outputs": [],
   "source": [
    "def Accuracy(x, y):\n",
    "    predict=[]\n",
    "    for value in result.predict(x).tolist():\n",
    "        if value >= 0.5:\n",
    "            predict.append(1)\n",
    "        else:\n",
    "            predict.append(0)\n",
    "    matrix = metrics.confusion_matrix(y, predict)\n",
    "    TP = matrix[0][0]\n",
    "    TN = matrix[1][1]\n",
    "    FP = matrix[1][0]\n",
    "    FN = matrix[0][1]\n",
    "    print(matrix)    \n",
    "    print(\"Accuracy: \", (TP + TN) / (TP + TP + FN + FP))\n",
    "    print(\"Precision: \", (TN) / (TN + FN))"
   ]
  },
  {
   "cell_type": "code",
   "execution_count": 27,
   "metadata": {},
   "outputs": [
    {
     "name": "stdout",
     "output_type": "stream",
     "text": [
      "[[1626 1164]\n",
      " [1109 1521]]\n",
      "Accuracy:  0.5695927601809955\n",
      "Precision:  0.5664804469273743\n"
     ]
    }
   ],
   "source": [
    "Accuracy(activity_data[explanatory_cols], activity_data['active'])"
   ]
  },
  {
   "cell_type": "markdown",
   "metadata": {},
   "source": [
    "## Question 5"
   ]
  },
  {
   "cell_type": "code",
   "execution_count": 28,
   "metadata": {},
   "outputs": [],
   "source": [
    "training_data = activity_data[1:4000]\n",
    "test_data = activity_data[4001:].copy()\n",
    "training_logit_model = sm.GLM(training_data['active'], training_data[explanatory_cols], family=sm.families.Binomial())\n",
    "training_result = training_logit_model.fit()"
   ]
  },
  {
   "cell_type": "code",
   "execution_count": 29,
   "metadata": {},
   "outputs": [
    {
     "name": "stdout",
     "output_type": "stream",
     "text": [
      "[[787 503]\n",
      " [ 53  76]]\n",
      "Accuracy:  0.4051643192488263\n",
      "Precision:  0.13126079447322972\n"
     ]
    }
   ],
   "source": [
    "Accuracy(test_data[explanatory_cols], test_data['active'])"
   ]
  },
  {
   "cell_type": "markdown",
   "metadata": {},
   "source": [
    "<p style=\"font-family:Times; font-size: 20px\">The first model got accuracy more than the second model where we performed train test split procedure this is because the first model is biased, First model was trained and evaluated on the same data. But, the second model is being validated completely on new and unknown data.\n",
    "    </p>\n",
    "<p style=\"font-family:Times; font-size: 20px\">The accuracy represents the prediction ability of the model.</p> "
   ]
  },
  {
   "cell_type": "markdown",
   "metadata": {},
   "source": [
    "## Question 6"
   ]
  },
  {
   "cell_type": "code",
   "execution_count": 31,
   "metadata": {},
   "outputs": [],
   "source": [
    "df_par =  pd.read_csv(\"InterviewData_Parsing.csv\")\n",
    "df_par[\"data_to_parse\"] = df_par[\"data_to_parse\"].apply(lambda x: eval(str(\"{\" + x).replace(\"]\", \"\")))\n"
   ]
  },
  {
   "cell_type": "code",
   "execution_count": 34,
   "metadata": {},
   "outputs": [],
   "source": [
    "df_par[\"Col_add_1\"] = df_par[\"data_to_parse\"].apply(lambda x: x[\"value\"].split(\";\")[0])\n",
    "df_par[\"Col_add_2\"] = df_par[\"data_to_parse\"].apply(lambda x: x[\"value\"].split(\";\")[1])\n",
    "df_par[\"Col_add_3\"] = df_par[\"data_to_parse\"].apply(lambda x: x[\"value\"].split(\";\")[2])\n",
    "df_par[\"Col_add_4\"] = df_par[\"data_to_parse\"].apply(lambda x: x[\"value\"].split(\";\")[3])\n"
   ]
  },
  {
   "cell_type": "code",
   "execution_count": 35,
   "metadata": {},
   "outputs": [
    {
     "data": {
      "text/html": [
       "<div>\n",
       "<style scoped>\n",
       "    .dataframe tbody tr th:only-of-type {\n",
       "        vertical-align: middle;\n",
       "    }\n",
       "\n",
       "    .dataframe tbody tr th {\n",
       "        vertical-align: top;\n",
       "    }\n",
       "\n",
       "    .dataframe thead th {\n",
       "        text-align: right;\n",
       "    }\n",
       "</style>\n",
       "<table border=\"1\" class=\"dataframe\">\n",
       "  <thead>\n",
       "    <tr style=\"text-align: right;\">\n",
       "      <th></th>\n",
       "      <th>userid</th>\n",
       "      <th>data_to_parse</th>\n",
       "      <th>Col_add_1</th>\n",
       "      <th>Col_add_2</th>\n",
       "      <th>Col_add_3</th>\n",
       "      <th>Col_add_4</th>\n",
       "    </tr>\n",
       "  </thead>\n",
       "  <tbody>\n",
       "    <tr>\n",
       "      <th>0</th>\n",
       "      <td>54f3ad9a29ada</td>\n",
       "      <td>{'value': 'N;U;A7;W'}</td>\n",
       "      <td>N</td>\n",
       "      <td>U</td>\n",
       "      <td>A7</td>\n",
       "      <td>W</td>\n",
       "    </tr>\n",
       "    <tr>\n",
       "      <th>1</th>\n",
       "      <td>54f69f2de6aec</td>\n",
       "      <td>{'value': 'N;U;I6;W'}</td>\n",
       "      <td>N</td>\n",
       "      <td>U</td>\n",
       "      <td>I6</td>\n",
       "      <td>W</td>\n",
       "    </tr>\n",
       "    <tr>\n",
       "      <th>2</th>\n",
       "      <td>54f650f004474</td>\n",
       "      <td>{'value': 'Y;U;A7;W'}</td>\n",
       "      <td>Y</td>\n",
       "      <td>U</td>\n",
       "      <td>A7</td>\n",
       "      <td>W</td>\n",
       "    </tr>\n",
       "    <tr>\n",
       "      <th>3</th>\n",
       "      <td>54f52e8872227</td>\n",
       "      <td>{'value': 'N;U;I1;W'}</td>\n",
       "      <td>N</td>\n",
       "      <td>U</td>\n",
       "      <td>I1</td>\n",
       "      <td>W</td>\n",
       "    </tr>\n",
       "    <tr>\n",
       "      <th>4</th>\n",
       "      <td>54f64d3075b72</td>\n",
       "      <td>{'value': 'Y;U;A7;W'}</td>\n",
       "      <td>Y</td>\n",
       "      <td>U</td>\n",
       "      <td>A7</td>\n",
       "      <td>W</td>\n",
       "    </tr>\n",
       "    <tr>\n",
       "      <th>...</th>\n",
       "      <td>...</td>\n",
       "      <td>...</td>\n",
       "      <td>...</td>\n",
       "      <td>...</td>\n",
       "      <td>...</td>\n",
       "      <td>...</td>\n",
       "    </tr>\n",
       "    <tr>\n",
       "      <th>948</th>\n",
       "      <td>54f5eb32d1a5b</td>\n",
       "      <td>{'value': 'N;U;A1;W'}</td>\n",
       "      <td>N</td>\n",
       "      <td>U</td>\n",
       "      <td>A1</td>\n",
       "      <td>W</td>\n",
       "    </tr>\n",
       "    <tr>\n",
       "      <th>949</th>\n",
       "      <td>54f34bd1a812a</td>\n",
       "      <td>{'value': 'N;C;A2;L'}</td>\n",
       "      <td>N</td>\n",
       "      <td>C</td>\n",
       "      <td>A2</td>\n",
       "      <td>L</td>\n",
       "    </tr>\n",
       "    <tr>\n",
       "      <th>950</th>\n",
       "      <td>54f34aa1e1f00</td>\n",
       "      <td>{'value': 'Y;U;A1;W'}</td>\n",
       "      <td>Y</td>\n",
       "      <td>U</td>\n",
       "      <td>A1</td>\n",
       "      <td>W</td>\n",
       "    </tr>\n",
       "    <tr>\n",
       "      <th>951</th>\n",
       "      <td>54f47d97846bc</td>\n",
       "      <td>{'value': 'N;U;I4;L'}</td>\n",
       "      <td>N</td>\n",
       "      <td>U</td>\n",
       "      <td>I4</td>\n",
       "      <td>L</td>\n",
       "    </tr>\n",
       "    <tr>\n",
       "      <th>952</th>\n",
       "      <td>54f5337f14bd6</td>\n",
       "      <td>{'value': 'N;U;A4;W'}</td>\n",
       "      <td>N</td>\n",
       "      <td>U</td>\n",
       "      <td>A4</td>\n",
       "      <td>W</td>\n",
       "    </tr>\n",
       "  </tbody>\n",
       "</table>\n",
       "<p>953 rows × 6 columns</p>\n",
       "</div>"
      ],
      "text/plain": [
       "            userid          data_to_parse Col_add_1 Col_add_2 Col_add_3  \\\n",
       "0    54f3ad9a29ada  {'value': 'N;U;A7;W'}         N         U        A7   \n",
       "1    54f69f2de6aec  {'value': 'N;U;I6;W'}         N         U        I6   \n",
       "2    54f650f004474  {'value': 'Y;U;A7;W'}         Y         U        A7   \n",
       "3    54f52e8872227  {'value': 'N;U;I1;W'}         N         U        I1   \n",
       "4    54f64d3075b72  {'value': 'Y;U;A7;W'}         Y         U        A7   \n",
       "..             ...                    ...       ...       ...       ...   \n",
       "948  54f5eb32d1a5b  {'value': 'N;U;A1;W'}         N         U        A1   \n",
       "949  54f34bd1a812a  {'value': 'N;C;A2;L'}         N         C        A2   \n",
       "950  54f34aa1e1f00  {'value': 'Y;U;A1;W'}         Y         U        A1   \n",
       "951  54f47d97846bc  {'value': 'N;U;I4;L'}         N         U        I4   \n",
       "952  54f5337f14bd6  {'value': 'N;U;A4;W'}         N         U        A4   \n",
       "\n",
       "    Col_add_4  \n",
       "0           W  \n",
       "1           W  \n",
       "2           W  \n",
       "3           W  \n",
       "4           W  \n",
       "..        ...  \n",
       "948         W  \n",
       "949         L  \n",
       "950         W  \n",
       "951         L  \n",
       "952         W  \n",
       "\n",
       "[953 rows x 6 columns]"
      ]
     },
     "execution_count": 35,
     "metadata": {},
     "output_type": "execute_result"
    }
   ],
   "source": [
    "df_par"
   ]
  },
  {
   "cell_type": "markdown",
   "metadata": {},
   "source": [
    "### Question B"
   ]
  },
  {
   "cell_type": "markdown",
   "metadata": {},
   "source": [
    "In every marketing department, Conversion rate is most the important landing page metric to keep the track of.\n",
    "\n",
    "Conversion rate is the percentage of users who take the desired action on the landing page. It helps to understand if a landing page is performing well, What parts of your landing page might need to be improved, Whether it’s worth the time (and money) to keep using the page.\n",
    "\n",
    "                        conversion rate = (# of conversions/total  # of visitors) * 100\n",
    "\n",
    "\n",
    "conversion rate can be improved by \n",
    " <li>Speed up mobile site and improve site design</li>\n",
    " <li>Experiment with Layout, Content, Style and Functionality on Landing Pages</li>\n",
    " <li>Implementing new offers, coupons for the customers based on their conversion rate</li>\n",
    "\n",
    "There are few more metrics which are very important to consider to campaign\n",
    "\n",
    "1.) Bounce rate - It’s the percentage of all users who leave after they view a single page.\n",
    "      This can be improved by\n",
    "      <li> Improve Content’s Readability</li>\n",
    "      <li> Avoid Popups – Don’t Disrupt the UX</li>\n",
    "      <li> Keep the Blog Fresh With the Right Content</li>\n",
    "\n",
    "                \n",
    "                \n",
    "2.) Pageviews - Pageviews can give you a sense of how many people come to our landing page. But looking at pageviews might help us understand why people aren’t becoming customers.\n",
    "       Pageviews can be improved by\n",
    "       <li> Creating a great user experience</li>\n",
    "       <li> Give Visitors More Relevant Stuff</li>\n",
    "       \n",
    "3.) Time spent on page - The type of landing page you have can have an effect on how long people stay on it. It can be improved by adding new resources, including user friendly images.\n",
    "\n",
    "4.) Sessions by source - It tells us which channels all of our traffic comes from. It’s not enough to just know that we get, It’s important to know where it comes from. so that we can target the people(customers) in effective way.\n",
    "\n"
   ]
  },
  {
   "cell_type": "code",
   "execution_count": null,
   "metadata": {},
   "outputs": [],
   "source": []
  }
 ],
 "metadata": {
  "kernelspec": {
   "display_name": "Python 3",
   "language": "python",
   "name": "python3"
  },
  "language_info": {
   "codemirror_mode": {
    "name": "ipython",
    "version": 3
   },
   "file_extension": ".py",
   "mimetype": "text/x-python",
   "name": "python",
   "nbconvert_exporter": "python",
   "pygments_lexer": "ipython3",
   "version": "3.6.10"
  }
 },
 "nbformat": 4,
 "nbformat_minor": 4
}
